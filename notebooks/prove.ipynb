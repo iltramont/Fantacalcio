{
 "cells": [
  {
   "cell_type": "code",
   "id": "initial_id",
   "metadata": {
    "collapsed": true,
    "ExecuteTime": {
     "end_time": "2025-09-02T10:16:16.552024Z",
     "start_time": "2025-09-02T10:16:16.535975Z"
    }
   },
   "source": "print('Hello world')",
   "outputs": [
    {
     "name": "stdout",
     "output_type": "stream",
     "text": [
      "Hello world\n"
     ]
    }
   ],
   "execution_count": 2
  },
  {
   "metadata": {
    "ExecuteTime": {
     "end_time": "2025-09-02T10:27:30.639439Z",
     "start_time": "2025-09-02T10:27:30.634688Z"
    }
   },
   "cell_type": "code",
   "source": [
    "import pandas as pd\n",
    "import os"
   ],
   "id": "d530040e98fa80fd",
   "outputs": [],
   "execution_count": 11
  },
  {
   "metadata": {
    "ExecuteTime": {
     "end_time": "2025-09-02T10:30:05.048483Z",
     "start_time": "2025-09-02T10:30:04.980725Z"
    }
   },
   "cell_type": "code",
   "source": [
    "l = os.getcwd().split(\"\\\\\")\n",
    "file_name = \"quotazioni_fantacalcio_2025_settembre.xlsx\"\n",
    "path = \"\\\\\".join(l[:len(l)-1]) + \"\\\\data\\\\\" + file_name\n",
    "\n",
    "data = pd.read_excel(path)"
   ],
   "id": "994c2c77b6ad08ee",
   "outputs": [],
   "execution_count": 13
  },
  {
   "metadata": {
    "ExecuteTime": {
     "end_time": "2025-09-02T10:30:35.484055Z",
     "start_time": "2025-09-02T10:30:35.473920Z"
    }
   },
   "cell_type": "code",
   "source": "data",
   "id": "d12eb43697db1976",
   "outputs": [
    {
     "data": {
      "text/plain": [
       "             Nome     Squadra Ruolo  Quotazione Trequartista\n",
       "0        Orsolini     Bologna     C          32           SI\n",
       "1            Kean  Fiorentina     A          31           NO\n",
       "2      Martinez L       Inter     A          31           NO\n",
       "3          Thuram       Inter     A          30           NO\n",
       "4         Pulisic       Milan     C          30           SI\n",
       "..            ...         ...   ...         ...          ...\n",
       "602       Cavlina        Como     P           1           NO\n",
       "603      Yildiz V      Verona     C           1           NO\n",
       "604  Rodriguez Ju    Cagliari     D           1           NO\n",
       "605         Gueye     Udinese     A           1           NO\n",
       "606       Perez A      Torino     D           1           NO\n",
       "\n",
       "[607 rows x 5 columns]"
      ],
      "text/html": [
       "<div>\n",
       "<style scoped>\n",
       "    .dataframe tbody tr th:only-of-type {\n",
       "        vertical-align: middle;\n",
       "    }\n",
       "\n",
       "    .dataframe tbody tr th {\n",
       "        vertical-align: top;\n",
       "    }\n",
       "\n",
       "    .dataframe thead th {\n",
       "        text-align: right;\n",
       "    }\n",
       "</style>\n",
       "<table border=\"1\" class=\"dataframe\">\n",
       "  <thead>\n",
       "    <tr style=\"text-align: right;\">\n",
       "      <th></th>\n",
       "      <th>Nome</th>\n",
       "      <th>Squadra</th>\n",
       "      <th>Ruolo</th>\n",
       "      <th>Quotazione</th>\n",
       "      <th>Trequartista</th>\n",
       "    </tr>\n",
       "  </thead>\n",
       "  <tbody>\n",
       "    <tr>\n",
       "      <th>0</th>\n",
       "      <td>Orsolini</td>\n",
       "      <td>Bologna</td>\n",
       "      <td>C</td>\n",
       "      <td>32</td>\n",
       "      <td>SI</td>\n",
       "    </tr>\n",
       "    <tr>\n",
       "      <th>1</th>\n",
       "      <td>Kean</td>\n",
       "      <td>Fiorentina</td>\n",
       "      <td>A</td>\n",
       "      <td>31</td>\n",
       "      <td>NO</td>\n",
       "    </tr>\n",
       "    <tr>\n",
       "      <th>2</th>\n",
       "      <td>Martinez L</td>\n",
       "      <td>Inter</td>\n",
       "      <td>A</td>\n",
       "      <td>31</td>\n",
       "      <td>NO</td>\n",
       "    </tr>\n",
       "    <tr>\n",
       "      <th>3</th>\n",
       "      <td>Thuram</td>\n",
       "      <td>Inter</td>\n",
       "      <td>A</td>\n",
       "      <td>30</td>\n",
       "      <td>NO</td>\n",
       "    </tr>\n",
       "    <tr>\n",
       "      <th>4</th>\n",
       "      <td>Pulisic</td>\n",
       "      <td>Milan</td>\n",
       "      <td>C</td>\n",
       "      <td>30</td>\n",
       "      <td>SI</td>\n",
       "    </tr>\n",
       "    <tr>\n",
       "      <th>...</th>\n",
       "      <td>...</td>\n",
       "      <td>...</td>\n",
       "      <td>...</td>\n",
       "      <td>...</td>\n",
       "      <td>...</td>\n",
       "    </tr>\n",
       "    <tr>\n",
       "      <th>602</th>\n",
       "      <td>Cavlina</td>\n",
       "      <td>Como</td>\n",
       "      <td>P</td>\n",
       "      <td>1</td>\n",
       "      <td>NO</td>\n",
       "    </tr>\n",
       "    <tr>\n",
       "      <th>603</th>\n",
       "      <td>Yildiz V</td>\n",
       "      <td>Verona</td>\n",
       "      <td>C</td>\n",
       "      <td>1</td>\n",
       "      <td>NO</td>\n",
       "    </tr>\n",
       "    <tr>\n",
       "      <th>604</th>\n",
       "      <td>Rodriguez Ju</td>\n",
       "      <td>Cagliari</td>\n",
       "      <td>D</td>\n",
       "      <td>1</td>\n",
       "      <td>NO</td>\n",
       "    </tr>\n",
       "    <tr>\n",
       "      <th>605</th>\n",
       "      <td>Gueye</td>\n",
       "      <td>Udinese</td>\n",
       "      <td>A</td>\n",
       "      <td>1</td>\n",
       "      <td>NO</td>\n",
       "    </tr>\n",
       "    <tr>\n",
       "      <th>606</th>\n",
       "      <td>Perez A</td>\n",
       "      <td>Torino</td>\n",
       "      <td>D</td>\n",
       "      <td>1</td>\n",
       "      <td>NO</td>\n",
       "    </tr>\n",
       "  </tbody>\n",
       "</table>\n",
       "<p>607 rows × 5 columns</p>\n",
       "</div>"
      ]
     },
     "execution_count": 17,
     "metadata": {},
     "output_type": "execute_result"
    }
   ],
   "execution_count": 17
  },
  {
   "metadata": {
    "ExecuteTime": {
     "end_time": "2025-09-02T10:26:55.112549Z",
     "start_time": "2025-09-02T10:26:55.092368Z"
    }
   },
   "cell_type": "code",
   "source": "data.iloc[0]",
   "id": "9743ee5d47f8dc3",
   "outputs": [
    {
     "data": {
      "text/plain": [
       "Nome            Orsolini\n",
       "Squadra          Bologna\n",
       "Ruolo                  C\n",
       "Quotazione            32\n",
       "Trequartista          SI\n",
       "Name: 0, dtype: object"
      ]
     },
     "execution_count": 9,
     "metadata": {},
     "output_type": "execute_result"
    }
   ],
   "execution_count": 9
  },
  {
   "metadata": {
    "ExecuteTime": {
     "end_time": "2025-09-02T12:28:22.984375Z",
     "start_time": "2025-09-02T12:28:22.978161Z"
    }
   },
   "cell_type": "code",
   "source": [
    "for i, j in enumerate([10, 20, 30]):\n",
    "    print(i, j)"
   ],
   "id": "708aaaf93e3fadcf",
   "outputs": [
    {
     "name": "stdout",
     "output_type": "stream",
     "text": [
      "0 10\n",
      "1 20\n",
      "2 30\n"
     ]
    }
   ],
   "execution_count": 22
  },
  {
   "metadata": {},
   "cell_type": "code",
   "outputs": [],
   "execution_count": null,
   "source": "",
   "id": "5a9ef2e85ab522c5"
  }
 ],
 "metadata": {
  "kernelspec": {
   "display_name": "Python 3",
   "language": "python",
   "name": "python3"
  },
  "language_info": {
   "codemirror_mode": {
    "name": "ipython",
    "version": 2
   },
   "file_extension": ".py",
   "mimetype": "text/x-python",
   "name": "python",
   "nbconvert_exporter": "python",
   "pygments_lexer": "ipython2",
   "version": "2.7.6"
  }
 },
 "nbformat": 4,
 "nbformat_minor": 5
}
